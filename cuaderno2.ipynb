{
 "cells": [
  {
   "cell_type": "code",
   "execution_count": 1,
   "metadata": {},
   "outputs": [],
   "source": [
    "import pandas as pd"
   ]
  },
  {
   "cell_type": "code",
   "execution_count": 2,
   "metadata": {},
   "outputs": [],
   "source": [
    "data = pd.read_csv(\"dataGroup10.csv\")"
   ]
  },
  {
   "cell_type": "code",
   "execution_count": 3,
   "metadata": {},
   "outputs": [
    {
     "data": {
      "text/html": [
       "<div>\n",
       "<style scoped>\n",
       "    .dataframe tbody tr th:only-of-type {\n",
       "        vertical-align: middle;\n",
       "    }\n",
       "\n",
       "    .dataframe tbody tr th {\n",
       "        vertical-align: top;\n",
       "    }\n",
       "\n",
       "    .dataframe thead th {\n",
       "        text-align: right;\n",
       "    }\n",
       "</style>\n",
       "<table border=\"1\" class=\"dataframe\">\n",
       "  <thead>\n",
       "    <tr style=\"text-align: right;\">\n",
       "      <th></th>\n",
       "      <th>Unnamed: 0</th>\n",
       "      <th>nombre</th>\n",
       "      <th>last_name</th>\n",
       "      <th>email</th>\n",
       "      <th>address</th>\n",
       "      <th>age</th>\n",
       "      <th>provincia</th>\n",
       "    </tr>\n",
       "  </thead>\n",
       "  <tbody>\n",
       "    <tr>\n",
       "      <th>0</th>\n",
       "      <td>0</td>\n",
       "      <td>Nicholas Whitney</td>\n",
       "      <td>Peterson</td>\n",
       "      <td>jay10@example.net</td>\n",
       "      <td>3043 Nicole Spur\\nNorth Angelaland, NC 88693</td>\n",
       "      <td>32</td>\n",
       "      <td>Pichincha</td>\n",
       "    </tr>\n",
       "    <tr>\n",
       "      <th>1</th>\n",
       "      <td>1</td>\n",
       "      <td>Eric Gallagher</td>\n",
       "      <td>Alvarez</td>\n",
       "      <td>vgonzalez@example.org</td>\n",
       "      <td>376 Jacqueline Coves\\nNorth Sarah, NH 34867</td>\n",
       "      <td>35</td>\n",
       "      <td>Manabí</td>\n",
       "    </tr>\n",
       "    <tr>\n",
       "      <th>2</th>\n",
       "      <td>2</td>\n",
       "      <td>Jeremy Ware</td>\n",
       "      <td>Brown</td>\n",
       "      <td>stanleycarroll@example.org</td>\n",
       "      <td>5278 Simpson Forks\\nNorth Thomasburgh, NY 48842</td>\n",
       "      <td>31</td>\n",
       "      <td>Loja</td>\n",
       "    </tr>\n",
       "    <tr>\n",
       "      <th>3</th>\n",
       "      <td>3</td>\n",
       "      <td>Omar Price</td>\n",
       "      <td>Knox</td>\n",
       "      <td>deborah17@example.com</td>\n",
       "      <td>311 Montoya Mills Apt. 799\\nSouth Jenna, DC 84325</td>\n",
       "      <td>34</td>\n",
       "      <td>Loja</td>\n",
       "    </tr>\n",
       "    <tr>\n",
       "      <th>4</th>\n",
       "      <td>4</td>\n",
       "      <td>Justin Patel</td>\n",
       "      <td>Powell</td>\n",
       "      <td>adam77@example.net</td>\n",
       "      <td>48759 Edwards Pines\\nLake Kimberly, MD 44577</td>\n",
       "      <td>37</td>\n",
       "      <td>Guayas</td>\n",
       "    </tr>\n",
       "    <tr>\n",
       "      <th>...</th>\n",
       "      <td>...</td>\n",
       "      <td>...</td>\n",
       "      <td>...</td>\n",
       "      <td>...</td>\n",
       "      <td>...</td>\n",
       "      <td>...</td>\n",
       "      <td>...</td>\n",
       "    </tr>\n",
       "    <tr>\n",
       "      <th>9995</th>\n",
       "      <td>9995</td>\n",
       "      <td>Emily Chang</td>\n",
       "      <td>Moore</td>\n",
       "      <td>brookssean@example.com</td>\n",
       "      <td>872 Petersen Squares\\nNorth Stephanie, VT 14514</td>\n",
       "      <td>32</td>\n",
       "      <td>Loja</td>\n",
       "    </tr>\n",
       "    <tr>\n",
       "      <th>9996</th>\n",
       "      <td>9996</td>\n",
       "      <td>Vanessa Leonard</td>\n",
       "      <td>Bowman</td>\n",
       "      <td>pwhite@example.org</td>\n",
       "      <td>9085 Olson Ports Suite 917\\nWilliamsmouth, NM ...</td>\n",
       "      <td>32</td>\n",
       "      <td>Pichincha</td>\n",
       "    </tr>\n",
       "    <tr>\n",
       "      <th>9997</th>\n",
       "      <td>9997</td>\n",
       "      <td>Margaret Reyes</td>\n",
       "      <td>Dalton</td>\n",
       "      <td>gardnerdawn@example.net</td>\n",
       "      <td>0524 Natalie Grove Apt. 884\\nNorth Jenny, MT 9...</td>\n",
       "      <td>38</td>\n",
       "      <td>Pichincha</td>\n",
       "    </tr>\n",
       "    <tr>\n",
       "      <th>9998</th>\n",
       "      <td>9998</td>\n",
       "      <td>Brandi Brown</td>\n",
       "      <td>King</td>\n",
       "      <td>alexanderkoch@example.com</td>\n",
       "      <td>72339 Taylor Hollow Suite 222\\nJohnsonburgh, L...</td>\n",
       "      <td>33</td>\n",
       "      <td>Guayas</td>\n",
       "    </tr>\n",
       "    <tr>\n",
       "      <th>9999</th>\n",
       "      <td>9999</td>\n",
       "      <td>Jessica Mejia</td>\n",
       "      <td>Hughes</td>\n",
       "      <td>ananelson@example.org</td>\n",
       "      <td>86142 Martin Camp\\nKimberlyside, OR 79044</td>\n",
       "      <td>32</td>\n",
       "      <td>Azuay</td>\n",
       "    </tr>\n",
       "  </tbody>\n",
       "</table>\n",
       "<p>10000 rows × 7 columns</p>\n",
       "</div>"
      ],
      "text/plain": [
       "      Unnamed: 0            nombre last_name                       email  \\\n",
       "0              0  Nicholas Whitney  Peterson           jay10@example.net   \n",
       "1              1    Eric Gallagher   Alvarez       vgonzalez@example.org   \n",
       "2              2       Jeremy Ware     Brown  stanleycarroll@example.org   \n",
       "3              3        Omar Price      Knox       deborah17@example.com   \n",
       "4              4      Justin Patel    Powell          adam77@example.net   \n",
       "...          ...               ...       ...                         ...   \n",
       "9995        9995       Emily Chang     Moore      brookssean@example.com   \n",
       "9996        9996   Vanessa Leonard    Bowman          pwhite@example.org   \n",
       "9997        9997    Margaret Reyes    Dalton     gardnerdawn@example.net   \n",
       "9998        9998      Brandi Brown      King   alexanderkoch@example.com   \n",
       "9999        9999     Jessica Mejia    Hughes       ananelson@example.org   \n",
       "\n",
       "                                                address  age  provincia  \n",
       "0          3043 Nicole Spur\\nNorth Angelaland, NC 88693   32  Pichincha  \n",
       "1           376 Jacqueline Coves\\nNorth Sarah, NH 34867   35     Manabí  \n",
       "2       5278 Simpson Forks\\nNorth Thomasburgh, NY 48842   31       Loja  \n",
       "3     311 Montoya Mills Apt. 799\\nSouth Jenna, DC 84325   34       Loja  \n",
       "4          48759 Edwards Pines\\nLake Kimberly, MD 44577   37     Guayas  \n",
       "...                                                 ...  ...        ...  \n",
       "9995    872 Petersen Squares\\nNorth Stephanie, VT 14514   32       Loja  \n",
       "9996  9085 Olson Ports Suite 917\\nWilliamsmouth, NM ...   32  Pichincha  \n",
       "9997  0524 Natalie Grove Apt. 884\\nNorth Jenny, MT 9...   38  Pichincha  \n",
       "9998  72339 Taylor Hollow Suite 222\\nJohnsonburgh, L...   33     Guayas  \n",
       "9999          86142 Martin Camp\\nKimberlyside, OR 79044   32      Azuay  \n",
       "\n",
       "[10000 rows x 7 columns]"
      ]
     },
     "execution_count": 3,
     "metadata": {},
     "output_type": "execute_result"
    }
   ],
   "source": [
    "data"
   ]
  },
  {
   "cell_type": "code",
   "execution_count": 4,
   "metadata": {},
   "outputs": [
    {
     "name": "stdout",
     "output_type": "stream",
     "text": [
      "Requirement already satisfied: pygwalker in c:\\users\\nw user\\appdata\\local\\programs\\python\\python311\\lib\\site-packages (0.4.8)\n",
      "Requirement already satisfied: appdirs in c:\\users\\nw user\\appdata\\local\\programs\\python\\python311\\lib\\site-packages (from pygwalker) (1.4.4)\n",
      "Requirement already satisfied: arrow in c:\\users\\nw user\\appdata\\local\\programs\\python\\python311\\lib\\site-packages (from pygwalker) (1.3.0)\n",
      "Requirement already satisfied: astor in c:\\users\\nw user\\appdata\\local\\programs\\python\\python311\\lib\\site-packages (from pygwalker) (0.8.1)\n",
      "Requirement already satisfied: cachetools in c:\\users\\nw user\\appdata\\local\\programs\\python\\python311\\lib\\site-packages (from pygwalker) (5.3.3)\n",
      "Requirement already satisfied: duckdb==0.10.1 in c:\\users\\nw user\\appdata\\local\\programs\\python\\python311\\lib\\site-packages (from pygwalker) (0.10.1)\n",
      "Requirement already satisfied: gw-dsl-parser==0.1.47 in c:\\users\\nw user\\appdata\\local\\programs\\python\\python311\\lib\\site-packages (from pygwalker) (0.1.47)\n",
      "Requirement already satisfied: ipython in c:\\users\\nw user\\appdata\\local\\programs\\python\\python311\\lib\\site-packages (from pygwalker) (8.23.0)\n",
      "Requirement already satisfied: ipywidgets in c:\\users\\nw user\\appdata\\local\\programs\\python\\python311\\lib\\site-packages (from pygwalker) (8.1.2)\n",
      "Requirement already satisfied: jinja2 in c:\\users\\nw user\\appdata\\local\\programs\\python\\python311\\lib\\site-packages (from pygwalker) (3.1.3)\n",
      "Requirement already satisfied: kanaries-track==0.0.4 in c:\\users\\nw user\\appdata\\local\\programs\\python\\python311\\lib\\site-packages (from pygwalker) (0.0.4)\n",
      "Requirement already satisfied: packaging in c:\\users\\nw user\\appdata\\local\\programs\\python\\python311\\lib\\site-packages (from pygwalker) (24.0)\n",
      "Requirement already satisfied: pandas in c:\\users\\nw user\\appdata\\local\\programs\\python\\python311\\lib\\site-packages (from pygwalker) (2.2.2)\n",
      "Requirement already satisfied: psutil in c:\\users\\nw user\\appdata\\local\\programs\\python\\python311\\lib\\site-packages (from pygwalker) (5.9.8)\n",
      "Requirement already satisfied: pyarrow in c:\\users\\nw user\\appdata\\local\\programs\\python\\python311\\lib\\site-packages (from pygwalker) (16.0.0)\n",
      "Requirement already satisfied: pydantic in c:\\users\\nw user\\appdata\\local\\programs\\python\\python311\\lib\\site-packages (from pygwalker) (2.7.0)\n",
      "Requirement already satisfied: pytz in c:\\users\\nw user\\appdata\\local\\programs\\python\\python311\\lib\\site-packages (from pygwalker) (2024.1)\n",
      "Requirement already satisfied: requests in c:\\users\\nw user\\appdata\\local\\programs\\python\\python311\\lib\\site-packages (from pygwalker) (2.31.0)\n",
      "Requirement already satisfied: segment-analytics-python==2.2.3 in c:\\users\\nw user\\appdata\\local\\programs\\python\\python311\\lib\\site-packages (from pygwalker) (2.2.3)\n",
      "Requirement already satisfied: sqlalchemy in c:\\users\\nw user\\appdata\\local\\programs\\python\\python311\\lib\\site-packages (from pygwalker) (2.0.29)\n",
      "Requirement already satisfied: sqlglot>=19.0.0 in c:\\users\\nw user\\appdata\\local\\programs\\python\\python311\\lib\\site-packages (from pygwalker) (23.11.2)\n",
      "Requirement already satisfied: typing-extensions in c:\\users\\nw user\\appdata\\local\\programs\\python\\python311\\lib\\site-packages (from pygwalker) (4.11.0)\n",
      "Requirement already satisfied: wasmtime==12.0.0 in c:\\users\\nw user\\appdata\\local\\programs\\python\\python311\\lib\\site-packages (from gw-dsl-parser==0.1.47->pygwalker) (12.0.0)\n",
      "Requirement already satisfied: backoff>=2.2.1 in c:\\users\\nw user\\appdata\\local\\programs\\python\\python311\\lib\\site-packages (from kanaries-track==0.0.4->pygwalker) (2.2.1)\n",
      "Requirement already satisfied: dateutils>=0.6.12 in c:\\users\\nw user\\appdata\\local\\programs\\python\\python311\\lib\\site-packages (from kanaries-track==0.0.4->pygwalker) (0.6.12)\n",
      "Requirement already satisfied: monotonic~=1.5 in c:\\users\\nw user\\appdata\\local\\programs\\python\\python311\\lib\\site-packages (from segment-analytics-python==2.2.3->pygwalker) (1.6)\n",
      "Requirement already satisfied: python-dateutil~=2.2 in c:\\users\\nw user\\appdata\\local\\programs\\python\\python311\\lib\\site-packages (from segment-analytics-python==2.2.3->pygwalker) (2.9.0.post0)\n",
      "Requirement already satisfied: charset-normalizer<4,>=2 in c:\\users\\nw user\\appdata\\local\\programs\\python\\python311\\lib\\site-packages (from requests->pygwalker) (3.3.2)\n",
      "Requirement already satisfied: idna<4,>=2.5 in c:\\users\\nw user\\appdata\\local\\programs\\python\\python311\\lib\\site-packages (from requests->pygwalker) (3.7)\n",
      "Requirement already satisfied: urllib3<3,>=1.21.1 in c:\\users\\nw user\\appdata\\local\\programs\\python\\python311\\lib\\site-packages (from requests->pygwalker) (2.2.1)\n",
      "Requirement already satisfied: certifi>=2017.4.17 in c:\\users\\nw user\\appdata\\local\\programs\\python\\python311\\lib\\site-packages (from requests->pygwalker) (2024.2.2)\n",
      "Requirement already satisfied: types-python-dateutil>=2.8.10 in c:\\users\\nw user\\appdata\\local\\programs\\python\\python311\\lib\\site-packages (from arrow->pygwalker) (2.9.0.20240316)\n",
      "Requirement already satisfied: decorator in c:\\users\\nw user\\appdata\\local\\programs\\python\\python311\\lib\\site-packages (from ipython->pygwalker) (5.1.1)\n",
      "Requirement already satisfied: jedi>=0.16 in c:\\users\\nw user\\appdata\\local\\programs\\python\\python311\\lib\\site-packages (from ipython->pygwalker) (0.19.1)\n",
      "Requirement already satisfied: matplotlib-inline in c:\\users\\nw user\\appdata\\local\\programs\\python\\python311\\lib\\site-packages (from ipython->pygwalker) (0.1.6)\n",
      "Requirement already satisfied: prompt-toolkit<3.1.0,>=3.0.41 in c:\\users\\nw user\\appdata\\local\\programs\\python\\python311\\lib\\site-packages (from ipython->pygwalker) (3.0.43)\n",
      "Requirement already satisfied: pygments>=2.4.0 in c:\\users\\nw user\\appdata\\local\\programs\\python\\python311\\lib\\site-packages (from ipython->pygwalker) (2.17.2)\n",
      "Requirement already satisfied: stack-data in c:\\users\\nw user\\appdata\\local\\programs\\python\\python311\\lib\\site-packages (from ipython->pygwalker) (0.6.3)\n",
      "Requirement already satisfied: traitlets>=5.13.0 in c:\\users\\nw user\\appdata\\local\\programs\\python\\python311\\lib\\site-packages (from ipython->pygwalker) (5.14.2)\n",
      "Requirement already satisfied: colorama in c:\\users\\nw user\\appdata\\local\\programs\\python\\python311\\lib\\site-packages (from ipython->pygwalker) (0.4.6)\n",
      "Requirement already satisfied: comm>=0.1.3 in c:\\users\\nw user\\appdata\\local\\programs\\python\\python311\\lib\\site-packages (from ipywidgets->pygwalker) (0.2.2)\n",
      "Requirement already satisfied: widgetsnbextension~=4.0.10 in c:\\users\\nw user\\appdata\\local\\programs\\python\\python311\\lib\\site-packages (from ipywidgets->pygwalker) (4.0.10)\n",
      "Requirement already satisfied: jupyterlab-widgets~=3.0.10 in c:\\users\\nw user\\appdata\\local\\programs\\python\\python311\\lib\\site-packages (from ipywidgets->pygwalker) (3.0.10)\n",
      "Requirement already satisfied: MarkupSafe>=2.0 in c:\\users\\nw user\\appdata\\local\\programs\\python\\python311\\lib\\site-packages (from jinja2->pygwalker) (2.1.5)\n",
      "Requirement already satisfied: numpy>=1.23.2 in c:\\users\\nw user\\appdata\\local\\programs\\python\\python311\\lib\\site-packages (from pandas->pygwalker) (1.26.4)\n",
      "Requirement already satisfied: tzdata>=2022.7 in c:\\users\\nw user\\appdata\\local\\programs\\python\\python311\\lib\\site-packages (from pandas->pygwalker) (2024.1)\n",
      "Requirement already satisfied: annotated-types>=0.4.0 in c:\\users\\nw user\\appdata\\local\\programs\\python\\python311\\lib\\site-packages (from pydantic->pygwalker) (0.6.0)\n",
      "Requirement already satisfied: pydantic-core==2.18.1 in c:\\users\\nw user\\appdata\\local\\programs\\python\\python311\\lib\\site-packages (from pydantic->pygwalker) (2.18.1)\n",
      "Requirement already satisfied: greenlet!=0.4.17 in c:\\users\\nw user\\appdata\\local\\programs\\python\\python311\\lib\\site-packages (from sqlalchemy->pygwalker) (3.0.3)\n",
      "Requirement already satisfied: parso<0.9.0,>=0.8.3 in c:\\users\\nw user\\appdata\\local\\programs\\python\\python311\\lib\\site-packages (from jedi>=0.16->ipython->pygwalker) (0.8.4)\n",
      "Requirement already satisfied: wcwidth in c:\\users\\nw user\\appdata\\local\\programs\\python\\python311\\lib\\site-packages (from prompt-toolkit<3.1.0,>=3.0.41->ipython->pygwalker) (0.2.13)\n",
      "Requirement already satisfied: six>=1.5 in c:\\users\\nw user\\appdata\\local\\programs\\python\\python311\\lib\\site-packages (from python-dateutil~=2.2->segment-analytics-python==2.2.3->pygwalker) (1.16.0)\n",
      "Requirement already satisfied: executing>=1.2.0 in c:\\users\\nw user\\appdata\\local\\programs\\python\\python311\\lib\\site-packages (from stack-data->ipython->pygwalker) (2.0.1)\n",
      "Requirement already satisfied: asttokens>=2.1.0 in c:\\users\\nw user\\appdata\\local\\programs\\python\\python311\\lib\\site-packages (from stack-data->ipython->pygwalker) (2.4.1)\n",
      "Requirement already satisfied: pure-eval in c:\\users\\nw user\\appdata\\local\\programs\\python\\python311\\lib\\site-packages (from stack-data->ipython->pygwalker) (0.2.2)\n"
     ]
    }
   ],
   "source": [
    "!pip install pygwalker"
   ]
  },
  {
   "cell_type": "code",
   "execution_count": 5,
   "metadata": {},
   "outputs": [],
   "source": [
    "import pygwalker as pyg"
   ]
  },
  {
   "cell_type": "code",
   "execution_count": 6,
   "metadata": {},
   "outputs": [
    {
     "data": {
      "application/vnd.jupyter.widget-view+json": {
       "model_id": "95462d4a90b140ce86c8d8cd12bb570b",
       "version_major": 2,
       "version_minor": 0
      },
      "text/plain": [
       "Box(children=(HTML(value='<div id=\"ifr-pyg-000616cdfba54d88Q4RDS0AujKME5oq9\" style=\"height: auto\">\\n    <head>…"
      ]
     },
     "metadata": {},
     "output_type": "display_data"
    },
    {
     "data": {
      "text/html": [],
      "text/plain": [
       "<IPython.core.display.HTML object>"
      ]
     },
     "metadata": {},
     "output_type": "display_data"
    },
    {
     "data": {
      "text/plain": [
       "<pygwalker.api.pygwalker.PygWalker at 0x1b91b87bf90>"
      ]
     },
     "execution_count": 6,
     "metadata": {},
     "output_type": "execute_result"
    }
   ],
   "source": [
    "pyg.walk(data)"
   ]
  },
  {
   "cell_type": "code",
   "execution_count": 7,
   "metadata": {},
   "outputs": [
    {
     "data": {
      "text/plain": [
       "Unnamed: 0    10000\n",
       "nombre        10000\n",
       "last_name     10000\n",
       "email         10000\n",
       "address       10000\n",
       "age           10000\n",
       "provincia     10000\n",
       "dtype: int64"
      ]
     },
     "execution_count": 7,
     "metadata": {},
     "output_type": "execute_result"
    }
   ],
   "source": [
    "data.count()"
   ]
  }
 ],
 "metadata": {
  "kernelspec": {
   "display_name": "Python 3",
   "language": "python",
   "name": "python3"
  },
  "language_info": {
   "codemirror_mode": {
    "name": "ipython",
    "version": 3
   },
   "file_extension": ".py",
   "mimetype": "text/x-python",
   "name": "python",
   "nbconvert_exporter": "python",
   "pygments_lexer": "ipython3",
   "version": "3.11.9"
  }
 },
 "nbformat": 4,
 "nbformat_minor": 2
}
